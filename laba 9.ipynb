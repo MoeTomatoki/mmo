{
 "cells": [
  {
   "cell_type": "markdown",
   "metadata": {
    "hide_input": true
   },
   "source": [
    "# Лабораторная работа 9. Использование разработанного пайплайна для многомерной регрессии\n",
    "## <a href=\"https://www.kaggle.com/datasets/winson13/heart-disease-dataset\">Набор данных о сердечных заболеваниях</a>"
   ]
  },
  {
   "cell_type": "markdown",
   "metadata": {},
   "source": [
    "### Описание набора данных:\n",
    "Этот набор данных содержит медицинскую и поведенческую информацию, используемую для прогнозирования риска сердечно-сосудистых заболеваний. Он очень полезен для исследований и машинного обучения в области здравоохранения."
   ]
  },
  {
   "cell_type": "markdown",
   "metadata": {},
   "source": [
    "### Прилогающаяся информация:\n",
    "Этот набор данных может быть использован для различных проектов по анализу данных и машинному обучению, таких как:\n",
    "\n",
    "* Создание прогностических моделей для диагностики сердечно-сосудистых заболеваний.\n",
    "* Определение основных факторов риска сердечно-сосудистых заболеваний.\n",
    "* Понимание взаимосвязи между различными переменными и сердечно-сосудистыми заболеваниями."
   ]
  },
  {
   "cell_type": "markdown",
   "metadata": {},
   "source": [
    "### Назначение набора данных и возможные модели:\n",
    "1) index - <b>Integer</b> - Целое - <b>(adviser, amdahl, apollo, ..., siemens, wang)</b>\n",
    "2) age - <b>Integer</b> - Целое - <b>Age of the patients</b>\n",
    "3) sex - <b>Categorical</b> - Категоральное - <b>Gender of the patients</b>\n",
    "4) chest pain type - <b>Integer</b> - Целое\n",
    "5) resting bps - <b>Integer</b> - Целое - <b>resting blood pressure in mm Hg on admission to the hospital</b>\n",
    "6) cholesterol - <b>Continuous </b> - Дробное - <b>serum cholestoral in mg/dl</b>\n",
    "7) fasting blood sugar - <b>Integer</b> - Целое - <b>fasting blood sugar & gt; 120 mg/dl</b>\n",
    "8) resting ecg - <b>Integer</b> - Целое - <b>resting electrocardiographic results</b>\n",
    "9) max heart rate - <b>Integer</b> - Целое - <b>max hr achieved</b>\n",
    "10) exercise angina - <b>Integer</b> - Целое - <b>exercise induced angina</b>\n",
    "11) oldpeak - <b>Continuous </b> - Дробное\n",
    "12) ST slope - <b>Integer</b> - Целое\n",
    "13) target - <b>Integer</b> - Целое"
   ]
  },
  {
   "cell_type": "markdown",
   "metadata": {},
   "source": [
    "Подключение библиотек"
   ]
  },
  {
   "cell_type": "code",
   "execution_count": 2,
   "metadata": {
    "ExecuteTime": {
     "end_time": "2022-09-01T14:41:43.745356Z",
     "start_time": "2022-09-01T14:41:43.742352Z"
    }
   },
   "outputs": [],
   "source": [
    "import numpy as np\n",
    "import matplotlib.pyplot as plt\n",
    "import pandas as pd"
   ]
  },
  {
   "cell_type": "markdown",
   "metadata": {},
   "source": [
    "Загрузка данных"
   ]
  },
  {
   "cell_type": "code",
   "execution_count": 6,
   "metadata": {
    "ExecuteTime": {
     "end_time": "2022-09-01T14:42:17.286692Z",
     "start_time": "2022-09-01T14:42:17.270681Z"
    }
   },
   "outputs": [
    {
     "data": {
      "text/html": [
       "<div>\n",
       "<style scoped>\n",
       "    .dataframe tbody tr th:only-of-type {\n",
       "        vertical-align: middle;\n",
       "    }\n",
       "\n",
       "    .dataframe tbody tr th {\n",
       "        vertical-align: top;\n",
       "    }\n",
       "\n",
       "    .dataframe thead th {\n",
       "        text-align: right;\n",
       "    }\n",
       "</style>\n",
       "<table border=\"1\" class=\"dataframe\">\n",
       "  <thead>\n",
       "    <tr style=\"text-align: right;\">\n",
       "      <th></th>\n",
       "      <th>Unnamed: 0</th>\n",
       "      <th>age</th>\n",
       "      <th>sex</th>\n",
       "      <th>chest pain type</th>\n",
       "      <th>resting bps</th>\n",
       "      <th>cholesterol</th>\n",
       "      <th>fasting blood sugar</th>\n",
       "      <th>resting ecg</th>\n",
       "      <th>max heart rate</th>\n",
       "      <th>exercise angina</th>\n",
       "      <th>oldpeak</th>\n",
       "      <th>ST slope</th>\n",
       "      <th>target</th>\n",
       "    </tr>\n",
       "  </thead>\n",
       "  <tbody>\n",
       "    <tr>\n",
       "      <th>0</th>\n",
       "      <td>0</td>\n",
       "      <td>40</td>\n",
       "      <td>1</td>\n",
       "      <td>2</td>\n",
       "      <td>140</td>\n",
       "      <td>289.0</td>\n",
       "      <td>0</td>\n",
       "      <td>0</td>\n",
       "      <td>172</td>\n",
       "      <td>0</td>\n",
       "      <td>0.0</td>\n",
       "      <td>1</td>\n",
       "      <td>0</td>\n",
       "    </tr>\n",
       "    <tr>\n",
       "      <th>1</th>\n",
       "      <td>1</td>\n",
       "      <td>49</td>\n",
       "      <td>0</td>\n",
       "      <td>3</td>\n",
       "      <td>160</td>\n",
       "      <td>180.0</td>\n",
       "      <td>0</td>\n",
       "      <td>0</td>\n",
       "      <td>156</td>\n",
       "      <td>0</td>\n",
       "      <td>1.0</td>\n",
       "      <td>2</td>\n",
       "      <td>1</td>\n",
       "    </tr>\n",
       "    <tr>\n",
       "      <th>2</th>\n",
       "      <td>2</td>\n",
       "      <td>37</td>\n",
       "      <td>1</td>\n",
       "      <td>2</td>\n",
       "      <td>130</td>\n",
       "      <td>283.0</td>\n",
       "      <td>0</td>\n",
       "      <td>1</td>\n",
       "      <td>98</td>\n",
       "      <td>0</td>\n",
       "      <td>0.0</td>\n",
       "      <td>1</td>\n",
       "      <td>0</td>\n",
       "    </tr>\n",
       "    <tr>\n",
       "      <th>3</th>\n",
       "      <td>3</td>\n",
       "      <td>48</td>\n",
       "      <td>0</td>\n",
       "      <td>4</td>\n",
       "      <td>138</td>\n",
       "      <td>214.0</td>\n",
       "      <td>0</td>\n",
       "      <td>0</td>\n",
       "      <td>108</td>\n",
       "      <td>1</td>\n",
       "      <td>1.5</td>\n",
       "      <td>2</td>\n",
       "      <td>1</td>\n",
       "    </tr>\n",
       "    <tr>\n",
       "      <th>4</th>\n",
       "      <td>4</td>\n",
       "      <td>54</td>\n",
       "      <td>1</td>\n",
       "      <td>3</td>\n",
       "      <td>150</td>\n",
       "      <td>195.0</td>\n",
       "      <td>0</td>\n",
       "      <td>0</td>\n",
       "      <td>122</td>\n",
       "      <td>0</td>\n",
       "      <td>0.0</td>\n",
       "      <td>1</td>\n",
       "      <td>0</td>\n",
       "    </tr>\n",
       "  </tbody>\n",
       "</table>\n",
       "</div>"
      ],
      "text/plain": [
       "   Unnamed: 0  age  sex  chest pain type  resting bps  cholesterol  \\\n",
       "0           0   40    1                2          140        289.0   \n",
       "1           1   49    0                3          160        180.0   \n",
       "2           2   37    1                2          130        283.0   \n",
       "3           3   48    0                4          138        214.0   \n",
       "4           4   54    1                3          150        195.0   \n",
       "\n",
       "   fasting blood sugar  resting ecg  max heart rate  exercise angina  oldpeak  \\\n",
       "0                    0            0             172                0      0.0   \n",
       "1                    0            0             156                0      1.0   \n",
       "2                    0            1              98                0      0.0   \n",
       "3                    0            0             108                1      1.5   \n",
       "4                    0            0             122                0      0.0   \n",
       "\n",
       "   ST slope  target  \n",
       "0         1       0  \n",
       "1         2       1  \n",
       "2         1       0  \n",
       "3         2       1  \n",
       "4         1       0  "
      ]
     },
     "execution_count": 6,
     "metadata": {},
     "output_type": "execute_result"
    }
   ],
   "source": [
    "dataset = pd.read_csv('Heart_Disease.csv')\n",
    "dataset.head()"
   ]
  },
  {
   "cell_type": "markdown",
   "metadata": {},
   "source": [
    "Разделение на матрицу признаков и зависимую переменную"
   ]
  },
  {
   "cell_type": "code",
   "execution_count": 31,
   "metadata": {
    "ExecuteTime": {
     "end_time": "2022-09-01T14:44:39.114320Z",
     "start_time": "2022-09-01T14:44:39.109317Z"
    }
   },
   "outputs": [
    {
     "name": "stdout",
     "output_type": "stream",
     "text": [
      "Матрица признаков\n",
      "[[  1.   2. 140. 289.]\n",
      " [  0.   3. 160. 180.]\n",
      " [  1.   2. 130. 283.]\n",
      " [  0.   4. 138. 214.]\n",
      " [  1.   3. 150. 195.]]\n",
      "Зависимая переменная\n",
      "[40 49 37 48 54]\n"
     ]
    }
   ],
   "source": [
    "X = dataset.iloc[:, 2:-7].values\n",
    "y = dataset.iloc[:, 1].values\n",
    "print (\"Матрица признаков\"); print(X[:5])\n",
    "print (\"Зависимая переменная\"); print(y[:5])"
   ]
  },
  {
   "cell_type": "markdown",
   "metadata": {},
   "source": [
    "Обработка пропущенных значений"
   ]
  },
  {
   "cell_type": "code",
   "execution_count": 4,
   "metadata": {},
   "outputs": [],
   "source": [
    "from sklearn.preprocessing import Imputer\n",
    "imputer = Imputer(missing_values = 'NaN', strategy = 'mean', axis = 0)\n",
    "imputer = imputer.fit(X[:, 1:3])\n",
    "X[:, 1:3] = imputer.transform(X[:, 1:3])"
   ]
  },
  {
   "cell_type": "markdown",
   "metadata": {},
   "source": [
    "Замена категории кодом (LabelEncoder)"
   ]
  },
  {
   "cell_type": "code",
   "execution_count": 5,
   "metadata": {},
   "outputs": [],
   "source": [
    "from sklearn.preprocessing import LabelEncoder\n",
    "labelencoder_y = LabelEncoder()\n",
    "y = labelencoder_y.fit_transform(y)"
   ]
  },
  {
   "cell_type": "markdown",
   "metadata": {},
   "source": [
    "Преобразования категориальных меток в числовые значения (OneHotEncoder)"
   ]
  },
  {
   "cell_type": "code",
   "execution_count": 32,
   "metadata": {
    "ExecuteTime": {
     "end_time": "2022-09-01T14:44:48.559246Z",
     "start_time": "2022-09-01T14:44:48.549239Z"
    },
    "scrolled": true
   },
   "outputs": [
    {
     "name": "stdout",
     "output_type": "stream",
     "text": [
      "Перекодировка категориального признака\n",
      "[[  0.   0.   0.   0.   0.   0.   0.   0.   0.   0.   0.   0.   0.   0.\n",
      "    0.   0.   0.   0.   0.   0.   0.   0.   0.   0.   0.   0.   0.   0.\n",
      "    0.   0.   0.   0.   0.   0.   0.   0.   0.   0.   0.   0.   0.   0.\n",
      "    0.   0.   0.   0.   0.   0.   0.   0.   0.   0.   0.   0.   0.   0.\n",
      "    0.   0.   0.   0.   0.   0.   0.   0.   0.   0.   0.   0.   0.   0.\n",
      "    0.   0.   0.   0.   0.   0.   0.   0.   0.   0.   0.   0.   0.   0.\n",
      "    0.   0.   0.   0.   0.   0.   0.   0.   0.   0.   0.   0.   0.   0.\n",
      "    0.   0.   0.   0.   0.   0.   0.   0.   0.   0.   0.   0.   0.   0.\n",
      "    0.   0.   0.   0.   0.   0.   0.   0.   0.   0.   0.   0.   0.   0.\n",
      "    0.   0.   0.   0.   0.   0.   0.   0.   0.   0.   0.   0.   0.   0.\n",
      "    0.   0.   0.   0.   0.   0.   1.   0.   0.   0.   0.   0.   0.   0.\n",
      "    0.   0.   0.   0.   0.   0.   0.   0.   0.   0.   0.   0.   0.   0.\n",
      "    0.   0.   0.   0.   0.   0.   0.   0.   0.   0.   0.   0.   0.   0.\n",
      "    0.   0.   0.   0.   0.   0.   0.   0.   0.   0.   0.   0.   0.   0.\n",
      "    0.   0.   0.   0.   0.   0.   0.   0.   0.   0.   0.   0.   0.   0.\n",
      "    0.   0.   0.   0.   0.   0.   0.   0.   0.   0.   0.   1.   2. 140.]\n",
      " [  0.   0.   0.   0.   0.   0.   0.   0.   0.   0.   0.   0.   0.   0.\n",
      "    0.   0.   0.   0.   0.   0.   0.   0.   0.   0.   0.   0.   0.   0.\n",
      "    0.   0.   0.   0.   0.   0.   0.   0.   0.   0.   0.   1.   0.   0.\n",
      "    0.   0.   0.   0.   0.   0.   0.   0.   0.   0.   0.   0.   0.   0.\n",
      "    0.   0.   0.   0.   0.   0.   0.   0.   0.   0.   0.   0.   0.   0.\n",
      "    0.   0.   0.   0.   0.   0.   0.   0.   0.   0.   0.   0.   0.   0.\n",
      "    0.   0.   0.   0.   0.   0.   0.   0.   0.   0.   0.   0.   0.   0.\n",
      "    0.   0.   0.   0.   0.   0.   0.   0.   0.   0.   0.   0.   0.   0.\n",
      "    0.   0.   0.   0.   0.   0.   0.   0.   0.   0.   0.   0.   0.   0.\n",
      "    0.   0.   0.   0.   0.   0.   0.   0.   0.   0.   0.   0.   0.   0.\n",
      "    0.   0.   0.   0.   0.   0.   0.   0.   0.   0.   0.   0.   0.   0.\n",
      "    0.   0.   0.   0.   0.   0.   0.   0.   0.   0.   0.   0.   0.   0.\n",
      "    0.   0.   0.   0.   0.   0.   0.   0.   0.   0.   0.   0.   0.   0.\n",
      "    0.   0.   0.   0.   0.   0.   0.   0.   0.   0.   0.   0.   0.   0.\n",
      "    0.   0.   0.   0.   0.   0.   0.   0.   0.   0.   0.   0.   0.   0.\n",
      "    0.   0.   0.   0.   0.   0.   0.   0.   0.   0.   0.   0.   3. 160.]\n",
      " [  0.   0.   0.   0.   0.   0.   0.   0.   0.   0.   0.   0.   0.   0.\n",
      "    0.   0.   0.   0.   0.   0.   0.   0.   0.   0.   0.   0.   0.   0.\n",
      "    0.   0.   0.   0.   0.   0.   0.   0.   0.   0.   0.   0.   0.   0.\n",
      "    0.   0.   0.   0.   0.   0.   0.   0.   0.   0.   0.   0.   0.   0.\n",
      "    0.   0.   0.   0.   0.   0.   0.   0.   0.   0.   0.   0.   0.   0.\n",
      "    0.   0.   0.   0.   0.   0.   0.   0.   0.   0.   0.   0.   0.   0.\n",
      "    0.   0.   0.   0.   0.   0.   0.   0.   0.   0.   0.   0.   0.   0.\n",
      "    0.   0.   0.   0.   0.   0.   0.   0.   0.   0.   0.   0.   0.   0.\n",
      "    0.   0.   0.   0.   0.   0.   0.   0.   0.   0.   0.   0.   0.   0.\n",
      "    0.   0.   0.   0.   0.   0.   0.   0.   0.   0.   0.   0.   0.   0.\n",
      "    1.   0.   0.   0.   0.   0.   0.   0.   0.   0.   0.   0.   0.   0.\n",
      "    0.   0.   0.   0.   0.   0.   0.   0.   0.   0.   0.   0.   0.   0.\n",
      "    0.   0.   0.   0.   0.   0.   0.   0.   0.   0.   0.   0.   0.   0.\n",
      "    0.   0.   0.   0.   0.   0.   0.   0.   0.   0.   0.   0.   0.   0.\n",
      "    0.   0.   0.   0.   0.   0.   0.   0.   0.   0.   0.   0.   0.   0.\n",
      "    0.   0.   0.   0.   0.   0.   0.   0.   0.   0.   0.   1.   2. 130.]\n",
      " [  0.   0.   0.   0.   0.   0.   0.   0.   0.   0.   0.   0.   0.   0.\n",
      "    0.   0.   0.   0.   0.   0.   0.   0.   0.   0.   0.   0.   0.   0.\n",
      "    0.   0.   0.   0.   0.   0.   0.   0.   0.   0.   0.   0.   0.   0.\n",
      "    0.   0.   0.   0.   0.   0.   0.   0.   0.   0.   0.   0.   0.   0.\n",
      "    0.   0.   0.   0.   0.   0.   0.   0.   0.   0.   0.   0.   0.   0.\n",
      "    0.   1.   0.   0.   0.   0.   0.   0.   0.   0.   0.   0.   0.   0.\n",
      "    0.   0.   0.   0.   0.   0.   0.   0.   0.   0.   0.   0.   0.   0.\n",
      "    0.   0.   0.   0.   0.   0.   0.   0.   0.   0.   0.   0.   0.   0.\n",
      "    0.   0.   0.   0.   0.   0.   0.   0.   0.   0.   0.   0.   0.   0.\n",
      "    0.   0.   0.   0.   0.   0.   0.   0.   0.   0.   0.   0.   0.   0.\n",
      "    0.   0.   0.   0.   0.   0.   0.   0.   0.   0.   0.   0.   0.   0.\n",
      "    0.   0.   0.   0.   0.   0.   0.   0.   0.   0.   0.   0.   0.   0.\n",
      "    0.   0.   0.   0.   0.   0.   0.   0.   0.   0.   0.   0.   0.   0.\n",
      "    0.   0.   0.   0.   0.   0.   0.   0.   0.   0.   0.   0.   0.   0.\n",
      "    0.   0.   0.   0.   0.   0.   0.   0.   0.   0.   0.   0.   0.   0.\n",
      "    0.   0.   0.   0.   0.   0.   0.   0.   0.   0.   0.   0.   4. 138.]]\n"
     ]
    },
    {
     "name": "stderr",
     "output_type": "stream",
     "text": [
      "C:\\Users\\dj-pr\\Anaconda3\\lib\\site-packages\\sklearn\\preprocessing\\_encoders.py:371: FutureWarning: The handling of integer data will change in version 0.22. Currently, the categories are determined based on the range [0, max(values)], while in the future they will be determined based on the unique values.\n",
      "If you want the future behaviour and silence this warning, you can specify \"categories='auto'\".\n",
      "In case you used a LabelEncoder before this OneHotEncoder to convert the categories to integers, then you can now use the OneHotEncoder directly.\n",
      "  warnings.warn(msg, FutureWarning)\n",
      "C:\\Users\\dj-pr\\Anaconda3\\lib\\site-packages\\sklearn\\preprocessing\\_encoders.py:392: DeprecationWarning: The 'categorical_features' keyword is deprecated in version 0.20 and will be removed in 0.22. You can use the ColumnTransformer instead.\n",
      "  \"use the ColumnTransformer instead.\", DeprecationWarning)\n"
     ]
    }
   ],
   "source": [
    "from sklearn.preprocessing import LabelEncoder, OneHotEncoder\n",
    "labelencoder = LabelEncoder()\n",
    "X[:, 3] = labelencoder.fit_transform(X[:, 3])\n",
    "onehotencoder = OneHotEncoder(categorical_features = [3])\n",
    "X = onehotencoder.fit_transform(X).toarray()\n",
    "print(\"Перекодировка категориального признака\")\n",
    "print(X[:4,:])"
   ]
  },
  {
   "cell_type": "markdown",
   "metadata": {},
   "source": [
    "Для предотвращения мультиколлениврности необходимо избавиться от одной из фиктивных переменных, добавленных в результате обработки категориальных признаков"
   ]
  },
  {
   "cell_type": "code",
   "execution_count": 33,
   "metadata": {
    "ExecuteTime": {
     "end_time": "2022-09-01T14:44:53.824296Z",
     "start_time": "2022-09-01T14:44:53.820294Z"
    }
   },
   "outputs": [
    {
     "name": "stdout",
     "output_type": "stream",
     "text": [
      "[[  0.   0.   0.   0.   0.   0.   0.   0.   0.   0.   0.   0.   0.   0.\n",
      "    0.   0.   0.   0.   0.   0.   0.   0.   0.   0.   0.   0.   0.   0.\n",
      "    0.   0.   0.   0.   0.   0.   0.   0.   0.   0.   0.   0.   0.   0.\n",
      "    0.   0.   0.   0.   0.   0.   0.   0.   0.   0.   0.   0.   0.   0.\n",
      "    0.   0.   0.   0.   0.   0.   0.   0.   0.   0.   0.   0.   0.   0.\n",
      "    0.   0.   0.   0.   0.   0.   0.   0.   0.   0.   0.   0.   0.   0.\n",
      "    0.   0.   0.   0.   0.   0.   0.   0.   0.   0.   0.   0.   0.   0.\n",
      "    0.   0.   0.   0.   0.   0.   0.   0.   0.   0.   0.   0.   0.   0.\n",
      "    0.   0.   0.   0.   0.   0.   0.   0.   0.   0.   0.   0.   0.   0.\n",
      "    0.   0.   0.   0.   0.   0.   0.   0.   0.   0.   0.   0.   0.   0.\n",
      "    0.   0.   0.   0.   0.   1.   0.   0.   0.   0.   0.   0.   0.   0.\n",
      "    0.   0.   0.   0.   0.   0.   0.   0.   0.   0.   0.   0.   0.   0.\n",
      "    0.   0.   0.   0.   0.   0.   0.   0.   0.   0.   0.   0.   0.   0.\n",
      "    0.   0.   0.   0.   0.   0.   0.   0.   0.   0.   0.   0.   0.   0.\n",
      "    0.   0.   0.   0.   0.   0.   0.   0.   0.   0.   0.   0.   0.   0.\n",
      "    0.   0.   0.   0.   0.   0.   0.   0.   0.   0.   1.   2. 140.]\n",
      " [  0.   0.   0.   0.   0.   0.   0.   0.   0.   0.   0.   0.   0.   0.\n",
      "    0.   0.   0.   0.   0.   0.   0.   0.   0.   0.   0.   0.   0.   0.\n",
      "    0.   0.   0.   0.   0.   0.   0.   0.   0.   0.   1.   0.   0.   0.\n",
      "    0.   0.   0.   0.   0.   0.   0.   0.   0.   0.   0.   0.   0.   0.\n",
      "    0.   0.   0.   0.   0.   0.   0.   0.   0.   0.   0.   0.   0.   0.\n",
      "    0.   0.   0.   0.   0.   0.   0.   0.   0.   0.   0.   0.   0.   0.\n",
      "    0.   0.   0.   0.   0.   0.   0.   0.   0.   0.   0.   0.   0.   0.\n",
      "    0.   0.   0.   0.   0.   0.   0.   0.   0.   0.   0.   0.   0.   0.\n",
      "    0.   0.   0.   0.   0.   0.   0.   0.   0.   0.   0.   0.   0.   0.\n",
      "    0.   0.   0.   0.   0.   0.   0.   0.   0.   0.   0.   0.   0.   0.\n",
      "    0.   0.   0.   0.   0.   0.   0.   0.   0.   0.   0.   0.   0.   0.\n",
      "    0.   0.   0.   0.   0.   0.   0.   0.   0.   0.   0.   0.   0.   0.\n",
      "    0.   0.   0.   0.   0.   0.   0.   0.   0.   0.   0.   0.   0.   0.\n",
      "    0.   0.   0.   0.   0.   0.   0.   0.   0.   0.   0.   0.   0.   0.\n",
      "    0.   0.   0.   0.   0.   0.   0.   0.   0.   0.   0.   0.   0.   0.\n",
      "    0.   0.   0.   0.   0.   0.   0.   0.   0.   0.   0.   3. 160.]\n",
      " [  0.   0.   0.   0.   0.   0.   0.   0.   0.   0.   0.   0.   0.   0.\n",
      "    0.   0.   0.   0.   0.   0.   0.   0.   0.   0.   0.   0.   0.   0.\n",
      "    0.   0.   0.   0.   0.   0.   0.   0.   0.   0.   0.   0.   0.   0.\n",
      "    0.   0.   0.   0.   0.   0.   0.   0.   0.   0.   0.   0.   0.   0.\n",
      "    0.   0.   0.   0.   0.   0.   0.   0.   0.   0.   0.   0.   0.   0.\n",
      "    0.   0.   0.   0.   0.   0.   0.   0.   0.   0.   0.   0.   0.   0.\n",
      "    0.   0.   0.   0.   0.   0.   0.   0.   0.   0.   0.   0.   0.   0.\n",
      "    0.   0.   0.   0.   0.   0.   0.   0.   0.   0.   0.   0.   0.   0.\n",
      "    0.   0.   0.   0.   0.   0.   0.   0.   0.   0.   0.   0.   0.   0.\n",
      "    0.   0.   0.   0.   0.   0.   0.   0.   0.   0.   0.   0.   0.   1.\n",
      "    0.   0.   0.   0.   0.   0.   0.   0.   0.   0.   0.   0.   0.   0.\n",
      "    0.   0.   0.   0.   0.   0.   0.   0.   0.   0.   0.   0.   0.   0.\n",
      "    0.   0.   0.   0.   0.   0.   0.   0.   0.   0.   0.   0.   0.   0.\n",
      "    0.   0.   0.   0.   0.   0.   0.   0.   0.   0.   0.   0.   0.   0.\n",
      "    0.   0.   0.   0.   0.   0.   0.   0.   0.   0.   0.   0.   0.   0.\n",
      "    0.   0.   0.   0.   0.   0.   0.   0.   0.   0.   1.   2. 130.]\n",
      " [  0.   0.   0.   0.   0.   0.   0.   0.   0.   0.   0.   0.   0.   0.\n",
      "    0.   0.   0.   0.   0.   0.   0.   0.   0.   0.   0.   0.   0.   0.\n",
      "    0.   0.   0.   0.   0.   0.   0.   0.   0.   0.   0.   0.   0.   0.\n",
      "    0.   0.   0.   0.   0.   0.   0.   0.   0.   0.   0.   0.   0.   0.\n",
      "    0.   0.   0.   0.   0.   0.   0.   0.   0.   0.   0.   0.   0.   0.\n",
      "    1.   0.   0.   0.   0.   0.   0.   0.   0.   0.   0.   0.   0.   0.\n",
      "    0.   0.   0.   0.   0.   0.   0.   0.   0.   0.   0.   0.   0.   0.\n",
      "    0.   0.   0.   0.   0.   0.   0.   0.   0.   0.   0.   0.   0.   0.\n",
      "    0.   0.   0.   0.   0.   0.   0.   0.   0.   0.   0.   0.   0.   0.\n",
      "    0.   0.   0.   0.   0.   0.   0.   0.   0.   0.   0.   0.   0.   0.\n",
      "    0.   0.   0.   0.   0.   0.   0.   0.   0.   0.   0.   0.   0.   0.\n",
      "    0.   0.   0.   0.   0.   0.   0.   0.   0.   0.   0.   0.   0.   0.\n",
      "    0.   0.   0.   0.   0.   0.   0.   0.   0.   0.   0.   0.   0.   0.\n",
      "    0.   0.   0.   0.   0.   0.   0.   0.   0.   0.   0.   0.   0.   0.\n",
      "    0.   0.   0.   0.   0.   0.   0.   0.   0.   0.   0.   0.   0.   0.\n",
      "    0.   0.   0.   0.   0.   0.   0.   0.   0.   0.   0.   4. 138.]]\n"
     ]
    }
   ],
   "source": [
    "X = X[:, 1:]\n",
    "print(X[:4,:])"
   ]
  },
  {
   "cell_type": "markdown",
   "metadata": {
    "collapsed": true
   },
   "source": [
    "Разделение выборки на тестовую и тренировочную"
   ]
  },
  {
   "cell_type": "code",
   "execution_count": 34,
   "metadata": {
    "ExecuteTime": {
     "end_time": "2022-09-01T14:44:58.344843Z",
     "start_time": "2022-09-01T14:44:58.340840Z"
    }
   },
   "outputs": [],
   "source": [
    "from sklearn.model_selection import train_test_split\n",
    "X_train, X_test, y_train, y_test = train_test_split(X, y, test_size = 0.2, random_state = 0)"
   ]
  },
  {
   "cell_type": "markdown",
   "metadata": {},
   "source": [
    "Обучение линейной модели регрессии"
   ]
  },
  {
   "cell_type": "code",
   "execution_count": 35,
   "metadata": {
    "ExecuteTime": {
     "end_time": "2022-09-01T14:45:02.687425Z",
     "start_time": "2022-09-01T14:45:02.429075Z"
    }
   },
   "outputs": [
    {
     "data": {
      "text/plain": [
       "LinearRegression(copy_X=True, fit_intercept=True, n_jobs=None,\n",
       "         normalize=False)"
      ]
     },
     "execution_count": 35,
     "metadata": {},
     "output_type": "execute_result"
    }
   ],
   "source": [
    "from sklearn.linear_model import LinearRegression\n",
    "regressor = LinearRegression()\n",
    "regressor.fit(X_train, y_train)"
   ]
  },
  {
   "cell_type": "markdown",
   "metadata": {},
   "source": [
    "Предсказиние результатов"
   ]
  },
  {
   "cell_type": "code",
   "execution_count": 36,
   "metadata": {
    "ExecuteTime": {
     "end_time": "2022-09-01T14:45:07.721123Z",
     "start_time": "2022-09-01T14:45:07.717121Z"
    }
   },
   "outputs": [
    {
     "name": "stdout",
     "output_type": "stream",
     "text": [
      "[ 5.18952706e+01  6.26086776e+01  4.94629328e+01  5.78246291e+01\n",
      "  4.09990933e+01  5.46857350e+01  4.24876020e+01 -2.71362513e+11\n",
      "  5.28349164e+01  5.69762328e+01  5.43017862e+01  5.39990862e+01\n",
      "  5.58711536e+01  6.06481078e+01  5.55900257e+01  2.79053108e+12\n",
      "  4.80633862e+01  4.83166077e+01  4.16012633e+01  6.03825853e+01\n",
      "  5.78962109e+01  6.22665551e+01  6.02146552e+01  5.36959355e+01\n",
      "  5.28978496e+01  5.34979575e+01  5.69051192e+01  4.71282532e+01\n",
      "  6.50002563e+01  5.39327009e+01  5.40326131e+01  5.23078354e+01\n",
      "  5.46857350e+01  3.87365315e+01  4.59105861e+01  5.52209389e+01\n",
      "  5.14085834e+01  6.69044764e+01  6.20062931e+01  5.59503935e+01\n",
      "  5.86403706e+01  4.82883175e+01  5.88638199e+01  5.69544780e+01\n",
      "  5.64689725e+01  5.63052275e+01  5.47514575e+01  6.48899973e+01\n",
      "  5.60875137e+01  5.20442121e+01  4.48649008e+01  4.65362246e+01\n",
      "  5.01892994e+01  2.17328087e+12  5.29399135e+01  4.82930591e+01\n",
      "  5.17313397e+01  5.60003894e+01  6.13763774e+01  5.49229639e+01\n",
      "  5.50000136e+01  5.39152610e+01  6.40001648e+01  5.44798944e+01\n",
      "  5.43058746e+01  5.46184061e+01  4.63046715e+01  5.09364848e+01\n",
      "  5.24965298e+01  4.97943204e+01  6.36564152e+01  6.38321650e+01\n",
      "  4.45306995e+01  4.79228528e+01  6.11310518e+01  5.92440428e+01\n",
      "  4.95807340e+01  4.64604666e+01  6.28073232e+01  5.17979696e+01\n",
      "  5.63429091e+01  4.83273637e+01  5.41218021e+01  5.50953930e+01\n",
      "  4.03603871e+01  1.73924813e+12  6.27544697e+01  4.60581625e+01\n",
      "  5.20165899e+01  6.03955839e+01  5.93371604e+01  4.68965452e+01\n",
      "  5.15842302e+01  5.28349164e+01  5.60562418e+01  5.38747223e+01\n",
      "  5.10145238e+01  4.39114134e+01  5.87709871e+01  6.16578963e+01\n",
      "  4.57872970e+01  4.08169043e+01  4.46721828e+01  6.24028031e+11\n",
      "  5.28540614e+01  5.46244281e+01  5.14321215e+01  5.88017938e+01\n",
      "  5.01402347e+01  3.55182703e+01  6.46579964e+01  5.81555994e+01\n",
      "  6.02393272e+01  5.48900211e+01  5.32529342e+01  5.24158061e+01\n",
      "  4.98874657e+01  3.83423259e+01  6.34572575e+01  5.46244281e+01\n",
      " -2.52926777e+08  3.71755850e+01  5.90696323e+01  5.40320189e+01\n",
      "  5.83346889e+01  5.53023369e+01  3.91595895e+01  5.03773840e+01\n",
      "  5.03773840e+01  7.16576436e+01  6.22427681e+01  5.18224042e+01\n",
      "  4.72835987e+01  5.40258982e+01  6.08886035e+01  5.64382165e+01\n",
      "  4.80605343e+01  5.99920037e+01  5.32970030e+01  5.00891278e+01\n",
      "  5.62388961e+01  5.53425977e+01  4.46270878e+01  4.78238657e+01\n",
      "  5.80456288e+01  6.07952926e+01  5.93980887e+01 -2.71362513e+11\n",
      "  4.96784184e+01  5.56887129e+01  4.03986309e+01  5.90214384e+01\n",
      "  5.32902959e+01  4.84496453e+01  5.27264865e+01  5.73438852e+01\n",
      "  6.28207519e+01  5.74645913e+01  5.05756753e+01  6.03327906e+01\n",
      "  4.49022215e+01  5.13067272e+01  5.35269802e+01  4.62544515e+01\n",
      "  5.12864707e+01  5.08637507e+01  5.50454695e+01  3.78235805e+01\n",
      "  4.33447011e+01  4.13425996e+01  6.09651692e+01  4.99527171e+01\n",
      "  5.66577017e+01  5.62616294e+01  5.49102490e+01  3.90001571e+01\n",
      "  5.70338299e+01  6.39812701e+01  3.88655617e+01  1.73924813e+12\n",
      "  5.48710578e+01  4.74874780e+01  5.19165318e+01  6.64135897e+01\n",
      "  4.58157151e+01  5.68782537e+01  4.19024251e+01  5.67119792e+01\n",
      "  4.71041968e+01  5.92484505e+01  4.91926172e+01  6.24504297e+01\n",
      "  2.79053108e+12  6.44727614e+01  4.84233101e+01  5.22680547e+01\n",
      "  5.32111180e+01  5.69664877e+01  4.97748068e+01  5.11398022e+01\n",
      "  6.28953731e+01  4.75435765e+01  5.87248557e+01  4.26248896e+01\n",
      "  5.10076497e+01  5.44596446e+01  5.49285457e+01  5.14526503e+01\n",
      "  4.96491111e+01  7.16549347e+01]\n"
     ]
    }
   ],
   "source": [
    "y_pred = regressor.predict(X_test)\n",
    "print(y_pred)"
   ]
  },
  {
   "cell_type": "markdown",
   "metadata": {},
   "source": [
    "Оптимизация модели"
   ]
  },
  {
   "cell_type": "code",
   "execution_count": 46,
   "metadata": {
    "ExecuteTime": {
     "end_time": "2022-09-01T14:45:14.136919Z",
     "start_time": "2022-09-01T14:45:10.813099Z"
    }
   },
   "outputs": [
    {
     "data": {
      "text/html": [
       "<table class=\"simpletable\">\n",
       "<caption>OLS Regression Results</caption>\n",
       "<tr>\n",
       "  <th>Dep. Variable:</th>            <td>y</td>        <th>  R-squared:         </th> <td>   0.015</td>\n",
       "</tr>\n",
       "<tr>\n",
       "  <th>Model:</th>                   <td>OLS</td>       <th>  Adj. R-squared:    </th> <td>   0.010</td>\n",
       "</tr>\n",
       "<tr>\n",
       "  <th>Method:</th>             <td>Least Squares</td>  <th>  F-statistic:       </th> <td>   3.079</td>\n",
       "</tr>\n",
       "<tr>\n",
       "  <th>Date:</th>             <td>Sun, 24 Mar 2024</td> <th>  Prob (F-statistic):</th>  <td>0.00915</td>\n",
       "</tr>\n",
       "<tr>\n",
       "  <th>Time:</th>                 <td>22:25:08</td>     <th>  Log-Likelihood:    </th> <td> -3826.9</td>\n",
       "</tr>\n",
       "<tr>\n",
       "  <th>No. Observations:</th>      <td>  1048</td>      <th>  AIC:               </th> <td>   7666.</td>\n",
       "</tr>\n",
       "<tr>\n",
       "  <th>Df Residuals:</th>          <td>  1042</td>      <th>  BIC:               </th> <td>   7695.</td>\n",
       "</tr>\n",
       "<tr>\n",
       "  <th>Df Model:</th>              <td>     5</td>      <th>                     </th>     <td> </td>   \n",
       "</tr>\n",
       "<tr>\n",
       "  <th>Covariance Type:</th>      <td>nonrobust</td>    <th>                     </th>     <td> </td>   \n",
       "</tr>\n",
       "</table>\n",
       "<table class=\"simpletable\">\n",
       "<tr>\n",
       "    <td></td>       <th>coef</th>     <th>std err</th>      <th>t</th>      <th>P>|t|</th>  <th>[0.025</th>    <th>0.975]</th>  \n",
       "</tr>\n",
       "<tr>\n",
       "  <th>const</th> <td>   53.2841</td> <td>    0.290</td> <td>  183.928</td> <td> 0.000</td> <td>   52.716</td> <td>   53.853</td>\n",
       "</tr>\n",
       "<tr>\n",
       "  <th>x1</th>    <td>    0.7159</td> <td>    6.619</td> <td>    0.108</td> <td> 0.914</td> <td>  -12.272</td> <td>   13.704</td>\n",
       "</tr>\n",
       "<tr>\n",
       "  <th>x2</th>    <td>   15.7159</td> <td>    9.356</td> <td>    1.680</td> <td> 0.093</td> <td>   -2.643</td> <td>   34.075</td>\n",
       "</tr>\n",
       "<tr>\n",
       "  <th>x3</th>    <td>   22.7159</td> <td>    9.356</td> <td>    2.428</td> <td> 0.015</td> <td>    4.357</td> <td>   41.075</td>\n",
       "</tr>\n",
       "<tr>\n",
       "  <th>x4</th>    <td>  -15.2841</td> <td>    9.356</td> <td>   -1.634</td> <td> 0.103</td> <td>  -33.643</td> <td>    3.075</td>\n",
       "</tr>\n",
       "<tr>\n",
       "  <th>x5</th>    <td>   18.7159</td> <td>    9.356</td> <td>    2.000</td> <td> 0.046</td> <td>    0.357</td> <td>   37.075</td>\n",
       "</tr>\n",
       "</table>\n",
       "<table class=\"simpletable\">\n",
       "<tr>\n",
       "  <th>Omnibus:</th>       <td>15.801</td> <th>  Durbin-Watson:     </th> <td>   1.659</td>\n",
       "</tr>\n",
       "<tr>\n",
       "  <th>Prob(Omnibus):</th> <td> 0.000</td> <th>  Jarque-Bera (JB):  </th> <td>  11.566</td>\n",
       "</tr>\n",
       "<tr>\n",
       "  <th>Skew:</th>          <td>-0.149</td> <th>  Prob(JB):          </th> <td> 0.00308</td>\n",
       "</tr>\n",
       "<tr>\n",
       "  <th>Kurtosis:</th>      <td> 2.580</td> <th>  Cond. No.          </th> <td>    32.4</td>\n",
       "</tr>\n",
       "</table><br/><br/>Warnings:<br/>[1] Standard Errors assume that the covariance matrix of the errors is correctly specified."
      ],
      "text/plain": [
       "<class 'statsmodels.iolib.summary.Summary'>\n",
       "\"\"\"\n",
       "                            OLS Regression Results                            \n",
       "==============================================================================\n",
       "Dep. Variable:                      y   R-squared:                       0.015\n",
       "Model:                            OLS   Adj. R-squared:                  0.010\n",
       "Method:                 Least Squares   F-statistic:                     3.079\n",
       "Date:                Sun, 24 Mar 2024   Prob (F-statistic):            0.00915\n",
       "Time:                        22:25:08   Log-Likelihood:                -3826.9\n",
       "No. Observations:                1048   AIC:                             7666.\n",
       "Df Residuals:                    1042   BIC:                             7695.\n",
       "Df Model:                           5                                         \n",
       "Covariance Type:            nonrobust                                         \n",
       "==============================================================================\n",
       "                 coef    std err          t      P>|t|      [0.025      0.975]\n",
       "------------------------------------------------------------------------------\n",
       "const         53.2841      0.290    183.928      0.000      52.716      53.853\n",
       "x1             0.7159      6.619      0.108      0.914     -12.272      13.704\n",
       "x2            15.7159      9.356      1.680      0.093      -2.643      34.075\n",
       "x3            22.7159      9.356      2.428      0.015       4.357      41.075\n",
       "x4           -15.2841      9.356     -1.634      0.103     -33.643       3.075\n",
       "x5            18.7159      9.356      2.000      0.046       0.357      37.075\n",
       "==============================================================================\n",
       "Omnibus:                       15.801   Durbin-Watson:                   1.659\n",
       "Prob(Omnibus):                  0.000   Jarque-Bera (JB):               11.566\n",
       "Skew:                          -0.149   Prob(JB):                      0.00308\n",
       "Kurtosis:                       2.580   Cond. No.                         32.4\n",
       "==============================================================================\n",
       "\n",
       "Warnings:\n",
       "[1] Standard Errors assume that the covariance matrix of the errors is correctly specified.\n",
       "\"\"\""
      ]
     },
     "execution_count": 46,
     "metadata": {},
     "output_type": "execute_result"
    }
   ],
   "source": [
    "import statsmodels.formula.api as sm\n",
    "# добавляем столбец единиц к матрице признаков X, чтобы учесть свободный член в модели\n",
    "X = np.append(arr = np.ones((1048, 1)).astype(int), values = X, axis = 1)\n",
    "# выбираем оптимальные признаки для нашей модели\n",
    "X_opt = X[:, [0, 1, 2, 3, 4, 5]]\n",
    "# построение модели OLS методом наименьших квадратов\n",
    "regressor_OLS = sm.OLS(endog = y, exog = X_opt).fit()\n",
    "regressor_OLS.summary()"
   ]
  },
  {
   "cell_type": "code",
   "execution_count": 40,
   "metadata": {
    "ExecuteTime": {
     "end_time": "2022-09-01T14:45:18.616369Z",
     "start_time": "2022-09-01T14:45:18.596355Z"
    }
   },
   "outputs": [
    {
     "data": {
      "text/html": [
       "<table class=\"simpletable\">\n",
       "<caption>OLS Regression Results</caption>\n",
       "<tr>\n",
       "  <th>Dep. Variable:</th>            <td>y</td>        <th>  R-squared:         </th> <td>   0.009</td> \n",
       "</tr>\n",
       "<tr>\n",
       "  <th>Model:</th>                   <td>OLS</td>       <th>  Adj. R-squared:    </th> <td>   0.004</td> \n",
       "</tr>\n",
       "<tr>\n",
       "  <th>Method:</th>             <td>Least Squares</td>  <th>  F-statistic:       </th> <td>   1.863</td> \n",
       "</tr>\n",
       "<tr>\n",
       "  <th>Date:</th>             <td>Sun, 24 Mar 2024</td> <th>  Prob (F-statistic):</th>  <td>0.0982</td>  \n",
       "</tr>\n",
       "<tr>\n",
       "  <th>Time:</th>                 <td>22:23:44</td>     <th>  Log-Likelihood:    </th> <td> -5665.7</td> \n",
       "</tr>\n",
       "<tr>\n",
       "  <th>No. Observations:</th>      <td>  1048</td>      <th>  AIC:               </th> <td>1.134e+04</td>\n",
       "</tr>\n",
       "<tr>\n",
       "  <th>Df Residuals:</th>          <td>  1043</td>      <th>  BIC:               </th> <td>1.137e+04</td>\n",
       "</tr>\n",
       "<tr>\n",
       "  <th>Df Model:</th>              <td>     5</td>      <th>                     </th>     <td> </td>    \n",
       "</tr>\n",
       "<tr>\n",
       "  <th>Covariance Type:</th>      <td>nonrobust</td>    <th>                     </th>     <td> </td>    \n",
       "</tr>\n",
       "</table>\n",
       "<table class=\"simpletable\">\n",
       "<tr>\n",
       "   <td></td>     <th>coef</th>     <th>std err</th>      <th>t</th>      <th>P>|t|</th>  <th>[0.025</th>    <th>0.975]</th>  \n",
       "</tr>\n",
       "<tr>\n",
       "  <th>x1</th> <td>   54.0000</td> <td>   38.209</td> <td>    1.413</td> <td> 0.158</td> <td>  -20.975</td> <td>  128.975</td>\n",
       "</tr>\n",
       "<tr>\n",
       "  <th>x2</th> <td>   69.0000</td> <td>   54.035</td> <td>    1.277</td> <td> 0.202</td> <td>  -37.030</td> <td>  175.030</td>\n",
       "</tr>\n",
       "<tr>\n",
       "  <th>x3</th> <td>   38.0000</td> <td>   54.035</td> <td>    0.703</td> <td> 0.482</td> <td>  -68.030</td> <td>  144.030</td>\n",
       "</tr>\n",
       "<tr>\n",
       "  <th>x4</th> <td>   72.0000</td> <td>   54.035</td> <td>    1.332</td> <td> 0.183</td> <td>  -34.030</td> <td>  178.030</td>\n",
       "</tr>\n",
       "<tr>\n",
       "  <th>x5</th> <td>   57.6667</td> <td>   31.197</td> <td>    1.848</td> <td> 0.065</td> <td>   -3.550</td> <td>  118.883</td>\n",
       "</tr>\n",
       "</table>\n",
       "<table class=\"simpletable\">\n",
       "<tr>\n",
       "  <th>Omnibus:</th>       <td>222.186</td> <th>  Durbin-Watson:     </th> <td>   0.065</td> \n",
       "</tr>\n",
       "<tr>\n",
       "  <th>Prob(Omnibus):</th> <td> 0.000</td>  <th>  Jarque-Bera (JB):  </th> <td> 774.857</td> \n",
       "</tr>\n",
       "<tr>\n",
       "  <th>Skew:</th>          <td>-1.000</td>  <th>  Prob(JB):          </th> <td>5.52e-169</td>\n",
       "</tr>\n",
       "<tr>\n",
       "  <th>Kurtosis:</th>      <td> 6.708</td>  <th>  Cond. No.          </th> <td>    1.73</td> \n",
       "</tr>\n",
       "</table><br/><br/>Warnings:<br/>[1] Standard Errors assume that the covariance matrix of the errors is correctly specified."
      ],
      "text/plain": [
       "<class 'statsmodels.iolib.summary.Summary'>\n",
       "\"\"\"\n",
       "                            OLS Regression Results                            \n",
       "==============================================================================\n",
       "Dep. Variable:                      y   R-squared:                       0.009\n",
       "Model:                            OLS   Adj. R-squared:                  0.004\n",
       "Method:                 Least Squares   F-statistic:                     1.863\n",
       "Date:                Sun, 24 Mar 2024   Prob (F-statistic):             0.0982\n",
       "Time:                        22:23:44   Log-Likelihood:                -5665.7\n",
       "No. Observations:                1048   AIC:                         1.134e+04\n",
       "Df Residuals:                    1043   BIC:                         1.137e+04\n",
       "Df Model:                           5                                         \n",
       "Covariance Type:            nonrobust                                         \n",
       "==============================================================================\n",
       "                 coef    std err          t      P>|t|      [0.025      0.975]\n",
       "------------------------------------------------------------------------------\n",
       "x1            54.0000     38.209      1.413      0.158     -20.975     128.975\n",
       "x2            69.0000     54.035      1.277      0.202     -37.030     175.030\n",
       "x3            38.0000     54.035      0.703      0.482     -68.030     144.030\n",
       "x4            72.0000     54.035      1.332      0.183     -34.030     178.030\n",
       "x5            57.6667     31.197      1.848      0.065      -3.550     118.883\n",
       "==============================================================================\n",
       "Omnibus:                      222.186   Durbin-Watson:                   0.065\n",
       "Prob(Omnibus):                  0.000   Jarque-Bera (JB):              774.857\n",
       "Skew:                          -1.000   Prob(JB):                    5.52e-169\n",
       "Kurtosis:                       6.708   Cond. No.                         1.73\n",
       "==============================================================================\n",
       "\n",
       "Warnings:\n",
       "[1] Standard Errors assume that the covariance matrix of the errors is correctly specified.\n",
       "\"\"\""
      ]
     },
     "execution_count": 40,
     "metadata": {},
     "output_type": "execute_result"
    }
   ],
   "source": [
    "X_opt = X[:, [0, 1, 3, 4, 5]]\n",
    "regressor_OLS = sm.OLS(endog = y, exog = X_opt).fit()\n",
    "regressor_OLS.summary()"
   ]
  },
  {
   "cell_type": "code",
   "execution_count": 41,
   "metadata": {
    "ExecuteTime": {
     "end_time": "2022-09-01T14:45:23.543668Z",
     "start_time": "2022-09-01T14:45:23.509047Z"
    }
   },
   "outputs": [
    {
     "data": {
      "text/html": [
       "<table class=\"simpletable\">\n",
       "<caption>OLS Regression Results</caption>\n",
       "<tr>\n",
       "  <th>Dep. Variable:</th>            <td>y</td>        <th>  R-squared:         </th> <td>   0.007</td> \n",
       "</tr>\n",
       "<tr>\n",
       "  <th>Model:</th>                   <td>OLS</td>       <th>  Adj. R-squared:    </th> <td>   0.003</td> \n",
       "</tr>\n",
       "<tr>\n",
       "  <th>Method:</th>             <td>Least Squares</td>  <th>  F-statistic:       </th> <td>   1.920</td> \n",
       "</tr>\n",
       "<tr>\n",
       "  <th>Date:</th>             <td>Sun, 24 Mar 2024</td> <th>  Prob (F-statistic):</th>  <td> 0.105</td>  \n",
       "</tr>\n",
       "<tr>\n",
       "  <th>Time:</th>                 <td>22:23:46</td>     <th>  Log-Likelihood:    </th> <td> -5666.5</td> \n",
       "</tr>\n",
       "<tr>\n",
       "  <th>No. Observations:</th>      <td>  1048</td>      <th>  AIC:               </th> <td>1.134e+04</td>\n",
       "</tr>\n",
       "<tr>\n",
       "  <th>Df Residuals:</th>          <td>  1044</td>      <th>  BIC:               </th> <td>1.136e+04</td>\n",
       "</tr>\n",
       "<tr>\n",
       "  <th>Df Model:</th>              <td>     4</td>      <th>                     </th>     <td> </td>    \n",
       "</tr>\n",
       "<tr>\n",
       "  <th>Covariance Type:</th>      <td>nonrobust</td>    <th>                     </th>     <td> </td>    \n",
       "</tr>\n",
       "</table>\n",
       "<table class=\"simpletable\">\n",
       "<tr>\n",
       "   <td></td>     <th>coef</th>     <th>std err</th>      <th>t</th>      <th>P>|t|</th>  <th>[0.025</th>    <th>0.975]</th>  \n",
       "</tr>\n",
       "<tr>\n",
       "  <th>x1</th> <td>   54.0000</td> <td>   38.220</td> <td>    1.413</td> <td> 0.158</td> <td>  -20.997</td> <td>  128.997</td>\n",
       "</tr>\n",
       "<tr>\n",
       "  <th>x2</th> <td>   38.0000</td> <td>   54.052</td> <td>    0.703</td> <td> 0.482</td> <td>  -68.062</td> <td>  144.062</td>\n",
       "</tr>\n",
       "<tr>\n",
       "  <th>x3</th> <td>   72.0000</td> <td>   54.052</td> <td>    1.332</td> <td> 0.183</td> <td>  -34.062</td> <td>  178.062</td>\n",
       "</tr>\n",
       "<tr>\n",
       "  <th>x4</th> <td>   57.6667</td> <td>   31.207</td> <td>    1.848</td> <td> 0.065</td> <td>   -3.568</td> <td>  118.902</td>\n",
       "</tr>\n",
       "</table>\n",
       "<table class=\"simpletable\">\n",
       "<tr>\n",
       "  <th>Omnibus:</th>       <td>199.881</td> <th>  Durbin-Watson:     </th> <td>   0.062</td> \n",
       "</tr>\n",
       "<tr>\n",
       "  <th>Prob(Omnibus):</th> <td> 0.000</td>  <th>  Jarque-Bera (JB):  </th> <td> 649.217</td> \n",
       "</tr>\n",
       "<tr>\n",
       "  <th>Skew:</th>          <td>-0.921</td>  <th>  Prob(JB):          </th> <td>1.06e-141</td>\n",
       "</tr>\n",
       "<tr>\n",
       "  <th>Kurtosis:</th>      <td> 6.387</td>  <th>  Cond. No.          </th> <td>    1.73</td> \n",
       "</tr>\n",
       "</table><br/><br/>Warnings:<br/>[1] Standard Errors assume that the covariance matrix of the errors is correctly specified."
      ],
      "text/plain": [
       "<class 'statsmodels.iolib.summary.Summary'>\n",
       "\"\"\"\n",
       "                            OLS Regression Results                            \n",
       "==============================================================================\n",
       "Dep. Variable:                      y   R-squared:                       0.007\n",
       "Model:                            OLS   Adj. R-squared:                  0.003\n",
       "Method:                 Least Squares   F-statistic:                     1.920\n",
       "Date:                Sun, 24 Mar 2024   Prob (F-statistic):              0.105\n",
       "Time:                        22:23:46   Log-Likelihood:                -5666.5\n",
       "No. Observations:                1048   AIC:                         1.134e+04\n",
       "Df Residuals:                    1044   BIC:                         1.136e+04\n",
       "Df Model:                           4                                         \n",
       "Covariance Type:            nonrobust                                         \n",
       "==============================================================================\n",
       "                 coef    std err          t      P>|t|      [0.025      0.975]\n",
       "------------------------------------------------------------------------------\n",
       "x1            54.0000     38.220      1.413      0.158     -20.997     128.997\n",
       "x2            38.0000     54.052      0.703      0.482     -68.062     144.062\n",
       "x3            72.0000     54.052      1.332      0.183     -34.062     178.062\n",
       "x4            57.6667     31.207      1.848      0.065      -3.568     118.902\n",
       "==============================================================================\n",
       "Omnibus:                      199.881   Durbin-Watson:                   0.062\n",
       "Prob(Omnibus):                  0.000   Jarque-Bera (JB):              649.217\n",
       "Skew:                          -0.921   Prob(JB):                    1.06e-141\n",
       "Kurtosis:                       6.387   Cond. No.                         1.73\n",
       "==============================================================================\n",
       "\n",
       "Warnings:\n",
       "[1] Standard Errors assume that the covariance matrix of the errors is correctly specified.\n",
       "\"\"\""
      ]
     },
     "execution_count": 41,
     "metadata": {},
     "output_type": "execute_result"
    }
   ],
   "source": [
    "X_opt = X[:, [0, 3, 4, 5]]\n",
    "regressor_OLS = sm.OLS(endog = y, exog = X_opt).fit()\n",
    "regressor_OLS.summary()"
   ]
  },
  {
   "cell_type": "code",
   "execution_count": 42,
   "metadata": {
    "ExecuteTime": {
     "end_time": "2022-09-01T14:45:28.751278Z",
     "start_time": "2022-09-01T14:45:28.732265Z"
    }
   },
   "outputs": [
    {
     "data": {
      "text/html": [
       "<table class=\"simpletable\">\n",
       "<caption>OLS Regression Results</caption>\n",
       "<tr>\n",
       "  <th>Dep. Variable:</th>            <td>y</td>        <th>  R-squared:         </th> <td>   0.006</td> \n",
       "</tr>\n",
       "<tr>\n",
       "  <th>Model:</th>                   <td>OLS</td>       <th>  Adj. R-squared:    </th> <td>   0.003</td> \n",
       "</tr>\n",
       "<tr>\n",
       "  <th>Method:</th>             <td>Least Squares</td>  <th>  F-statistic:       </th> <td>   1.967</td> \n",
       "</tr>\n",
       "<tr>\n",
       "  <th>Date:</th>             <td>Sun, 24 Mar 2024</td> <th>  Prob (F-statistic):</th>  <td> 0.117</td>  \n",
       "</tr>\n",
       "<tr>\n",
       "  <th>Time:</th>                 <td>22:23:48</td>     <th>  Log-Likelihood:    </th> <td> -5667.4</td> \n",
       "</tr>\n",
       "<tr>\n",
       "  <th>No. Observations:</th>      <td>  1048</td>      <th>  AIC:               </th> <td>1.134e+04</td>\n",
       "</tr>\n",
       "<tr>\n",
       "  <th>Df Residuals:</th>          <td>  1045</td>      <th>  BIC:               </th> <td>1.136e+04</td>\n",
       "</tr>\n",
       "<tr>\n",
       "  <th>Df Model:</th>              <td>     3</td>      <th>                     </th>     <td> </td>    \n",
       "</tr>\n",
       "<tr>\n",
       "  <th>Covariance Type:</th>      <td>nonrobust</td>    <th>                     </th>     <td> </td>    \n",
       "</tr>\n",
       "</table>\n",
       "<table class=\"simpletable\">\n",
       "<tr>\n",
       "   <td></td>     <th>coef</th>     <th>std err</th>      <th>t</th>      <th>P>|t|</th>  <th>[0.025</th>    <th>0.975]</th>  \n",
       "</tr>\n",
       "<tr>\n",
       "  <th>x1</th> <td>   54.0000</td> <td>   38.234</td> <td>    1.412</td> <td> 0.158</td> <td>  -21.025</td> <td>  129.025</td>\n",
       "</tr>\n",
       "<tr>\n",
       "  <th>x2</th> <td>   38.0000</td> <td>   54.072</td> <td>    0.703</td> <td> 0.482</td> <td>  -68.101</td> <td>  144.101</td>\n",
       "</tr>\n",
       "<tr>\n",
       "  <th>x3</th> <td>   57.6667</td> <td>   31.218</td> <td>    1.847</td> <td> 0.065</td> <td>   -3.591</td> <td>  118.924</td>\n",
       "</tr>\n",
       "</table>\n",
       "<table class=\"simpletable\">\n",
       "<tr>\n",
       "  <th>Omnibus:</th>       <td>174.545</td> <th>  Durbin-Watson:     </th> <td>   0.059</td> \n",
       "</tr>\n",
       "<tr>\n",
       "  <th>Prob(Omnibus):</th> <td> 0.000</td>  <th>  Jarque-Bera (JB):  </th> <td> 519.134</td> \n",
       "</tr>\n",
       "<tr>\n",
       "  <th>Skew:</th>          <td>-0.833</td>  <th>  Prob(JB):          </th> <td>1.87e-113</td>\n",
       "</tr>\n",
       "<tr>\n",
       "  <th>Kurtosis:</th>      <td> 6.019</td>  <th>  Cond. No.          </th> <td>    1.73</td> \n",
       "</tr>\n",
       "</table><br/><br/>Warnings:<br/>[1] Standard Errors assume that the covariance matrix of the errors is correctly specified."
      ],
      "text/plain": [
       "<class 'statsmodels.iolib.summary.Summary'>\n",
       "\"\"\"\n",
       "                            OLS Regression Results                            \n",
       "==============================================================================\n",
       "Dep. Variable:                      y   R-squared:                       0.006\n",
       "Model:                            OLS   Adj. R-squared:                  0.003\n",
       "Method:                 Least Squares   F-statistic:                     1.967\n",
       "Date:                Sun, 24 Mar 2024   Prob (F-statistic):              0.117\n",
       "Time:                        22:23:48   Log-Likelihood:                -5667.4\n",
       "No. Observations:                1048   AIC:                         1.134e+04\n",
       "Df Residuals:                    1045   BIC:                         1.136e+04\n",
       "Df Model:                           3                                         \n",
       "Covariance Type:            nonrobust                                         \n",
       "==============================================================================\n",
       "                 coef    std err          t      P>|t|      [0.025      0.975]\n",
       "------------------------------------------------------------------------------\n",
       "x1            54.0000     38.234      1.412      0.158     -21.025     129.025\n",
       "x2            38.0000     54.072      0.703      0.482     -68.101     144.101\n",
       "x3            57.6667     31.218      1.847      0.065      -3.591     118.924\n",
       "==============================================================================\n",
       "Omnibus:                      174.545   Durbin-Watson:                   0.059\n",
       "Prob(Omnibus):                  0.000   Jarque-Bera (JB):              519.134\n",
       "Skew:                          -0.833   Prob(JB):                    1.87e-113\n",
       "Kurtosis:                       6.019   Cond. No.                         1.73\n",
       "==============================================================================\n",
       "\n",
       "Warnings:\n",
       "[1] Standard Errors assume that the covariance matrix of the errors is correctly specified.\n",
       "\"\"\""
      ]
     },
     "execution_count": 42,
     "metadata": {},
     "output_type": "execute_result"
    }
   ],
   "source": [
    "X_opt = X[:, [0, 3, 5]]\n",
    "regressor_OLS = sm.OLS(endog = y, exog = X_opt).fit()\n",
    "regressor_OLS.summary()"
   ]
  },
  {
   "cell_type": "code",
   "execution_count": 43,
   "metadata": {
    "ExecuteTime": {
     "end_time": "2022-09-01T14:45:32.850176Z",
     "start_time": "2022-09-01T14:45:32.813001Z"
    }
   },
   "outputs": [
    {
     "data": {
      "text/html": [
       "<table class=\"simpletable\">\n",
       "<caption>OLS Regression Results</caption>\n",
       "<tr>\n",
       "  <th>Dep. Variable:</th>            <td>y</td>        <th>  R-squared:         </th> <td>   0.002</td> \n",
       "</tr>\n",
       "<tr>\n",
       "  <th>Model:</th>                   <td>OLS</td>       <th>  Adj. R-squared:    </th> <td>   0.000</td> \n",
       "</tr>\n",
       "<tr>\n",
       "  <th>Method:</th>             <td>Least Squares</td>  <th>  F-statistic:       </th> <td>   1.241</td> \n",
       "</tr>\n",
       "<tr>\n",
       "  <th>Date:</th>             <td>Sun, 24 Mar 2024</td> <th>  Prob (F-statistic):</th>  <td> 0.289</td>  \n",
       "</tr>\n",
       "<tr>\n",
       "  <th>Time:</th>                 <td>22:23:51</td>     <th>  Log-Likelihood:    </th> <td> -5669.1</td> \n",
       "</tr>\n",
       "<tr>\n",
       "  <th>No. Observations:</th>      <td>  1048</td>      <th>  AIC:               </th> <td>1.134e+04</td>\n",
       "</tr>\n",
       "<tr>\n",
       "  <th>Df Residuals:</th>          <td>  1046</td>      <th>  BIC:               </th> <td>1.135e+04</td>\n",
       "</tr>\n",
       "<tr>\n",
       "  <th>Df Model:</th>              <td>     2</td>      <th>                     </th>     <td> </td>    \n",
       "</tr>\n",
       "<tr>\n",
       "  <th>Covariance Type:</th>      <td>nonrobust</td>    <th>                     </th>     <td> </td>    \n",
       "</tr>\n",
       "</table>\n",
       "<table class=\"simpletable\">\n",
       "<tr>\n",
       "   <td></td>     <th>coef</th>     <th>std err</th>      <th>t</th>      <th>P>|t|</th>  <th>[0.025</th>    <th>0.975]</th>  \n",
       "</tr>\n",
       "<tr>\n",
       "  <th>x1</th> <td>   54.0000</td> <td>   38.278</td> <td>    1.411</td> <td> 0.159</td> <td>  -21.111</td> <td>  129.111</td>\n",
       "</tr>\n",
       "<tr>\n",
       "  <th>x2</th> <td>   38.0000</td> <td>   54.134</td> <td>    0.702</td> <td> 0.483</td> <td>  -68.223</td> <td>  144.223</td>\n",
       "</tr>\n",
       "</table>\n",
       "<table class=\"simpletable\">\n",
       "<tr>\n",
       "  <th>Omnibus:</th>       <td>86.552</td> <th>  Durbin-Watson:     </th> <td>   0.054</td>\n",
       "</tr>\n",
       "<tr>\n",
       "  <th>Prob(Omnibus):</th> <td> 0.000</td> <th>  Jarque-Bera (JB):  </th> <td> 168.525</td>\n",
       "</tr>\n",
       "<tr>\n",
       "  <th>Skew:</th>          <td>-0.536</td> <th>  Prob(JB):          </th> <td>2.54e-37</td>\n",
       "</tr>\n",
       "<tr>\n",
       "  <th>Kurtosis:</th>      <td> 4.646</td> <th>  Cond. No.          </th> <td>    1.41</td>\n",
       "</tr>\n",
       "</table><br/><br/>Warnings:<br/>[1] Standard Errors assume that the covariance matrix of the errors is correctly specified."
      ],
      "text/plain": [
       "<class 'statsmodels.iolib.summary.Summary'>\n",
       "\"\"\"\n",
       "                            OLS Regression Results                            \n",
       "==============================================================================\n",
       "Dep. Variable:                      y   R-squared:                       0.002\n",
       "Model:                            OLS   Adj. R-squared:                  0.000\n",
       "Method:                 Least Squares   F-statistic:                     1.241\n",
       "Date:                Sun, 24 Mar 2024   Prob (F-statistic):              0.289\n",
       "Time:                        22:23:51   Log-Likelihood:                -5669.1\n",
       "No. Observations:                1048   AIC:                         1.134e+04\n",
       "Df Residuals:                    1046   BIC:                         1.135e+04\n",
       "Df Model:                           2                                         \n",
       "Covariance Type:            nonrobust                                         \n",
       "==============================================================================\n",
       "                 coef    std err          t      P>|t|      [0.025      0.975]\n",
       "------------------------------------------------------------------------------\n",
       "x1            54.0000     38.278      1.411      0.159     -21.111     129.111\n",
       "x2            38.0000     54.134      0.702      0.483     -68.223     144.223\n",
       "==============================================================================\n",
       "Omnibus:                       86.552   Durbin-Watson:                   0.054\n",
       "Prob(Omnibus):                  0.000   Jarque-Bera (JB):              168.525\n",
       "Skew:                          -0.536   Prob(JB):                     2.54e-37\n",
       "Kurtosis:                       4.646   Cond. No.                         1.41\n",
       "==============================================================================\n",
       "\n",
       "Warnings:\n",
       "[1] Standard Errors assume that the covariance matrix of the errors is correctly specified.\n",
       "\"\"\""
      ]
     },
     "execution_count": 43,
     "metadata": {},
     "output_type": "execute_result"
    }
   ],
   "source": [
    "X_opt = X[:, [0, 3]]\n",
    "regressor_OLS = sm.OLS(endog = y, exog = X_opt).fit()\n",
    "regressor_OLS.summary()"
   ]
  },
  {
   "cell_type": "markdown",
   "metadata": {},
   "source": [
    "### Вывод: \n",
    "Многомерная регрессия, также известная как многомерная линейная регрессия, используется для моделирования влияния нескольких независимых переменных на зависимую переменную. Пайплайн для многомерной регрессии может включать в себя шаги по обработке данных, исключению мультиколлинеарности, выбору оптимальной модели и интерпретации результатов.\n",
    "<br/>\n",
    "<br/>Пайплайн для многомерной регрессии  помогает в подготовке данных, выборе оптимальных признаков, построении модели и оценке ее качества. Это позволяет исследователям и аналитикам более точно моделировать сложные взаимосвязи между несколькими независимыми переменными и зависимой переменной. Пайплайн также способствует систематизации процесса анализа данных и повышению воспроизводимости результатов исследования."
   ]
  }
 ],
 "metadata": {
  "kernelspec": {
   "display_name": "Python 3",
   "language": "python",
   "name": "python3"
  },
  "language_info": {
   "codemirror_mode": {
    "name": "ipython",
    "version": 3
   },
   "file_extension": ".py",
   "mimetype": "text/x-python",
   "name": "python",
   "nbconvert_exporter": "python",
   "pygments_lexer": "ipython3",
   "version": "3.7.3"
  },
  "toc": {
   "base_numbering": 1,
   "nav_menu": {},
   "number_sections": true,
   "sideBar": true,
   "skip_h1_title": false,
   "title_cell": "Table of Contents",
   "title_sidebar": "Contents",
   "toc_cell": false,
   "toc_position": {
    "height": "calc(100% - 180px)",
    "left": "10px",
    "top": "150px",
    "width": "165px"
   },
   "toc_section_display": true,
   "toc_window_display": true
  }
 },
 "nbformat": 4,
 "nbformat_minor": 2
}
